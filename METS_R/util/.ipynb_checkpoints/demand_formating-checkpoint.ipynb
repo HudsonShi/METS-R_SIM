{
 "cells": [
  {
   "cell_type": "code",
   "execution_count": 19,
   "id": "5b1d5b30-ccf2-4f7f-9c76-2b29ff11f2eb",
   "metadata": {},
   "outputs": [],
   "source": [
    "import json\n",
    "import pandas\n",
    "import numpy as np"
   ]
  },
  {
   "cell_type": "code",
   "execution_count": 20,
   "id": "0caecccc-63cd-4883-ad87-e835702ef87c",
   "metadata": {},
   "outputs": [
    {
     "data": {
      "text/plain": [
       "(1548, 48)"
      ]
     },
     "execution_count": 20,
     "metadata": {},
     "output_type": "execute_result"
    }
   ],
   "source": [
    "# From csv to json for METS-R project (hub-based) demand file\n",
    "filename = '../data/NYC/demand/scenario1/demand_2019-12-09.csv'\n",
    "\n",
    "df = np.loadtxt(filename, delimiter=',')\n",
    "\n",
    "df.shape"
   ]
  },
  {
   "cell_type": "code",
   "execution_count": 21,
   "id": "d8930a38-bc50-4223-8bcc-4a3c3b63a328",
   "metadata": {},
   "outputs": [],
   "source": [
    "NUM_OF_ZONE = 258\n",
    "HUB_INDEXES = [131,140,180]"
   ]
  },
  {
   "cell_type": "code",
   "execution_count": 22,
   "id": "be94e983-718f-4e8c-a306-6a8fb25441f1",
   "metadata": {},
   "outputs": [],
   "source": [
    "res = dict()\n",
    "\n",
    "# hub to other places (including to itself)\n",
    "for i in range(3):\n",
    "    for j in range(NUM_OF_ZONE):\n",
    "        res[str((HUB_INDEXES[i], j))] = df[i * NUM_OF_ZONE * 2 + j].tolist()\n",
    "        \n",
    "for i in range(NUM_OF_ZONE):\n",
    "    for j in range(3):\n",
    "        res[str((i, HUB_INDEXES[j]))] = df[i + j * NUM_OF_ZONE * 2 + NUM_OF_ZONE].tolist()"
   ]
  },
  {
   "cell_type": "code",
   "execution_count": 23,
   "id": "bd4fcdf4-ad6e-4a27-b1b5-f49b87a0d2af",
   "metadata": {},
   "outputs": [],
   "source": [
    "with open(\"../data/NYC/demand/scenario1/demand_2019-12-09.json\", 'w') as f:\n",
    "    json.dump(res, f)"
   ]
  },
  {
   "cell_type": "code",
   "execution_count": null,
   "id": "9d3a1f2e-5449-47a5-87a0-6704c567a182",
   "metadata": {},
   "outputs": [],
   "source": []
  }
 ],
 "metadata": {
  "kernelspec": {
   "display_name": "Python 3 (ipykernel)",
   "language": "python",
   "name": "python3"
  },
  "language_info": {
   "codemirror_mode": {
    "name": "ipython",
    "version": 3
   },
   "file_extension": ".py",
   "mimetype": "text/x-python",
   "name": "python",
   "nbconvert_exporter": "python",
   "pygments_lexer": "ipython3",
   "version": "3.8.0"
  }
 },
 "nbformat": 4,
 "nbformat_minor": 5
}
