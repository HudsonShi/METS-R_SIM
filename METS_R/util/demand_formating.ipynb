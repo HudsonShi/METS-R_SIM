{
 "cells": [
  {
   "cell_type": "code",
   "execution_count": 1,
   "id": "5b1d5b30-ccf2-4f7f-9c76-2b29ff11f2eb",
   "metadata": {},
   "outputs": [],
   "source": [
    "import json\n",
    "import pandas\n",
    "import numpy as np\n",
    "import pandas as pd"
   ]
  },
  {
   "cell_type": "code",
   "execution_count": null,
   "id": "62a9ad17-9563-4c94-a4fe-646cf90beb37",
   "metadata": {},
   "outputs": [],
   "source": [
    "NUM_OF_ZONE = 258\n",
    "HUB_INDEXES = [131,140,180]"
   ]
  },
  {
   "cell_type": "code",
   "execution_count": null,
   "id": "1e66f0a5-b14c-484d-af20-737b77d6fe21",
   "metadata": {},
   "outputs": [],
   "source": [
    "zone_file = pd.read_csv(\"data/zone_fileNYC.csv\")"
   ]
  },
  {
   "cell_type": "code",
   "execution_count": 20,
   "id": "9099b8f8-7515-4151-9c73-0d79a72ad3a4",
   "metadata": {},
   "outputs": [],
   "source": [
    "fhv = []\n",
    "\n",
    "def get_month(i):\n",
    "    if i < 10:\n",
    "        return '0' + str(i)\n",
    "    else:\n",
    "        return str(i)\n",
    "\n",
    "for i in range(1,13):\n",
    "    fhv.append(pd.read_parquet(\"fhv_tripdata_2019-\" + get_month(i)+\".parquet\", engine=\"fastparquet\",\n",
    "                              columns = ['pickup_datetime', 'PUlocationID' , 'DOlocationID'] ))"
   ]
  },
  {
   "cell_type": "code",
   "execution_count": 23,
   "id": "bcad29c0-0460-4ca2-8ef1-3eb6bb7575e1",
   "metadata": {},
   "outputs": [],
   "source": [
    "fhv = pd.concat(fhv)"
   ]
  },
  {
   "cell_type": "code",
   "execution_count": 26,
   "id": "946001c5-6404-4673-9948-577d986282c3",
   "metadata": {},
   "outputs": [],
   "source": [
    "fhvhv = []\n",
    "\n",
    "def get_month(i):\n",
    "    if i < 10:\n",
    "        return '0' + str(i)\n",
    "    else:\n",
    "        return str(i)\n",
    "\n",
    "for i in range(2,13):\n",
    "    fhvhv.append(pd.read_parquet(\"fhvhv_tripdata_2019-\" + get_month(i)+\".parquet\", engine=\"fastparquet\",\n",
    "                              columns = ['pickup_datetime', 'PULocationID' , 'DOLocationID'] ))"
   ]
  },
  {
   "cell_type": "code",
   "execution_count": 27,
   "id": "502fc61c-95e7-4e86-9acd-52eba46de495",
   "metadata": {},
   "outputs": [],
   "source": [
    "fhvhv = pd.concat(fhvhv)"
   ]
  },
  {
   "cell_type": "code",
   "execution_count": 28,
   "id": "ad66e04d-a900-4499-8b89-36c9647fdbfe",
   "metadata": {},
   "outputs": [
    {
     "name": "stderr",
     "output_type": "stream",
     "text": [
      "C:\\Users\\User\\AppData\\Local\\Temp\\ipykernel_32164\\2159289457.py:2: FutureWarning: The frame.append method is deprecated and will be removed from pandas in a future version. Use pandas.concat instead.\n",
      "  yellow = yellow.append(pd.read_csv(\"yellow2019_h2.csv\"))\n"
     ]
    }
   ],
   "source": [
    "yellow = pd.read_csv(\"yellow2019_h1.csv\")\n",
    "yellow = yellow.append(pd.read_csv(\"yellow2019_h2.csv\"))"
   ]
  },
  {
   "cell_type": "code",
   "execution_count": 29,
   "id": "c9aeef07-5716-4af0-b308-a9f661456acf",
   "metadata": {},
   "outputs": [
    {
     "name": "stderr",
     "output_type": "stream",
     "text": [
      "C:\\Users\\User\\AppData\\Local\\Temp\\ipykernel_32164\\4081380501.py:2: FutureWarning: The frame.append method is deprecated and will be removed from pandas in a future version. Use pandas.concat instead.\n",
      "  green = green.append(pd.read_csv(\"green2019_h2.csv\"))\n"
     ]
    }
   ],
   "source": [
    "green = pd.read_csv(\"green2019_h1.csv\")\n",
    "green = green.append(pd.read_csv(\"green2019_h2.csv\"))"
   ]
  },
  {
   "cell_type": "code",
   "execution_count": 30,
   "id": "1b866919-0a81-477c-a016-408b29abe42b",
   "metadata": {},
   "outputs": [],
   "source": [
    "# Let's get the demand! \n",
    "fhvhv['day'] = fhvhv['pickup_datetime'].dt.dayofyear\n",
    "fhvhv['hour'] = fhvhv['pickup_datetime'].dt.hour"
   ]
  },
  {
   "cell_type": "code",
   "execution_count": null,
   "id": "dba69154-6b24-454d-a562-e14ee4093724",
   "metadata": {},
   "outputs": [],
   "source": [
    "fhvhv = fhvhv.groupby([\"day\", \"hour\", \"PULocationID\", \"DOLocationID\"]).count().reset_index()"
   ]
  },
  {
   "cell_type": "code",
   "execution_count": 37,
   "id": "840a31c2-d3a8-40d6-92aa-36d76b106f0a",
   "metadata": {},
   "outputs": [],
   "source": [
    "# Let's get the demand! \n",
    "fhv['day'] = fhv['pickup_datetime'].dt.dayofyear\n",
    "fhv['hour'] = fhv['pickup_datetime'].dt.hour"
   ]
  },
  {
   "cell_type": "code",
   "execution_count": 38,
   "id": "6498b755-e8e8-4beb-85e5-bc2c67e8aac9",
   "metadata": {},
   "outputs": [],
   "source": [
    "fhv = fhv.groupby([\"day\", \"hour\", \"PUlocationID\", \"DOlocationID\"]).count().reset_index()"
   ]
  },
  {
   "cell_type": "code",
   "execution_count": 56,
   "id": "48bcdeb7-93fc-42e5-8a25-15270a04a1a6",
   "metadata": {},
   "outputs": [],
   "source": [
    "fhv = fhv[(fhv['PUlocationID'] <= 263) & (fhv['DOlocationID'] <= 263)].reset_index()\n",
    "fhvhv = fhvhv[(fhvhv['PULocationID'] <= 263) & (fhvhv['DOLocationID'] <= 263)].reset_index()\n",
    "yellow = yellow[(yellow['pickup_loc'] <= 263) & (yellow['dropoff_loc'] <= 263)].reset_index()\n",
    "green = green[(green['pickup_loc'] <= 263) & (green['dropoff_loc'] <= 263)].reset_index()"
   ]
  },
  {
   "cell_type": "code",
   "execution_count": 68,
   "id": "0b6739e9-21ec-4c24-af6c-b9be240ead8f",
   "metadata": {},
   "outputs": [],
   "source": [
    "yellow = yellow[yellow['day']<366].reset_index()\n",
    "green = green[green['day']<366].reset_index()"
   ]
  },
  {
   "cell_type": "code",
   "execution_count": 70,
   "id": "d97252da-7271-4314-9744-d3b4b78f690d",
   "metadata": {},
   "outputs": [],
   "source": [
    "# create the matrix we need\n",
    "mat = np.zeros((24*365, 263, 263))"
   ]
  },
  {
   "cell_type": "code",
   "execution_count": 71,
   "id": "1e61b02d-95a9-4a75-958a-f739157a73b1",
   "metadata": {},
   "outputs": [],
   "source": [
    "x = (fhv['day'].values-1) * 24 + fhv['hour'].values\n",
    "y = fhv['PUlocationID'].values-1\n",
    "z = fhv['DOlocationID'].values-1\n",
    "value =  fhv['pickup_datetime'].values\n",
    "x = x.astype(int)\n",
    "y = y.astype(int)\n",
    "z = z.astype(int)\n",
    "\n",
    "mat[x,y,z] += value"
   ]
  },
  {
   "cell_type": "code",
   "execution_count": 72,
   "id": "7cc88597-fd58-49d7-811c-323e5097f12f",
   "metadata": {},
   "outputs": [],
   "source": [
    "x = (fhvhv['day'].values-1) * 24 + fhvhv['hour'].values\n",
    "y = fhvhv['PULocationID'].values-1\n",
    "z = fhvhv['DOLocationID'].values-1\n",
    "value =  fhvhv['pickup_datetime'].values\n",
    "x = x.astype(int)\n",
    "y = y.astype(int)\n",
    "z = z.astype(int)\n",
    "\n",
    "mat[x,y,z] += value"
   ]
  },
  {
   "cell_type": "code",
   "execution_count": 73,
   "id": "28b69220-097c-4e20-9044-ecbed1c5192b",
   "metadata": {},
   "outputs": [],
   "source": [
    "x = (yellow['day'].values-1) * 24 + yellow['hour'].values\n",
    "y = yellow['pickup_loc'].values-1\n",
    "z = yellow['dropoff_loc'].values-1\n",
    "value =  yellow['count'].values\n",
    "x = x.astype(int)\n",
    "y = y.astype(int)\n",
    "z = z.astype(int)\n",
    "\n",
    "mat[x,y,z] += value"
   ]
  },
  {
   "cell_type": "code",
   "execution_count": 74,
   "id": "0e3ec699-51e9-4eb1-8f28-9a8c2fefc6c6",
   "metadata": {},
   "outputs": [],
   "source": [
    "x = (green['day'].values-1) * 24 + green['hour'].values\n",
    "y = green['pickup_loc'].values-1\n",
    "z = green['dropoff_loc'].values-1\n",
    "value =  green['count'].values\n",
    "x = x.astype(int)\n",
    "y = y.astype(int)\n",
    "z = z.astype(int)\n",
    "\n",
    "mat[x,y,z] += value"
   ]
  },
  {
   "cell_type": "code",
   "execution_count": null,
   "id": "d512befb-60ee-4d59-b361-c9514e911e91",
   "metadata": {},
   "outputs": [],
   "source": [
    "# sanity check here\n",
    "np.sum(mat)/365"
   ]
  },
  {
   "cell_type": "code",
   "execution_count": 76,
   "id": "c1843d54-196b-4e9d-98b8-2b1ead3ebd86",
   "metadata": {},
   "outputs": [],
   "source": [
    "np.save(\"demand_2019.npy\", mat)"
   ]
  },
  {
   "cell_type": "code",
   "execution_count": 3,
   "id": "1aebf41d-709d-482b-a75c-9652ac760c55",
   "metadata": {},
   "outputs": [],
   "source": [
    "mat = np.load(\"demand_2019.npy\")"
   ]
  },
  {
   "cell_type": "code",
   "execution_count": 7,
   "id": "0c6afdfa-8700-45e6-85e2-fb15bbd0f2bc",
   "metadata": {},
   "outputs": [],
   "source": [
    "selected_index = zone_file['LocationID'].values"
   ]
  },
  {
   "cell_type": "code",
   "execution_count": null,
   "id": "6727a1b0-d68e-4b5d-9fb1-783da551cb0c",
   "metadata": {},
   "outputs": [],
   "source": [
    "mat = mat[:,selected_index-1,:][:,:,selected_index-1]"
   ]
  },
  {
   "cell_type": "code",
   "execution_count": 8,
   "id": "749e1704-c80e-4961-b8d1-956e4b0aa901",
   "metadata": {},
   "outputs": [],
   "source": [
    "import os\n",
    "from datetime import datetime"
   ]
  },
  {
   "cell_type": "code",
   "execution_count": 9,
   "id": "7b680001-5614-4bb7-8702-3648b0a402fa",
   "metadata": {},
   "outputs": [
    {
     "name": "stdout",
     "output_type": "stream",
     "text": [
      "1151031.0\n",
      "1231662.0\n",
      "1109966.0\n",
      "1054612.0\n",
      "1069206.0\n",
      "1137758.0\n",
      "1229058.0\n",
      "993804.0\n",
      "1234134.0\n",
      "909685.0\n",
      "1013448.0\n",
      "1058354.0\n",
      "1032967.0\n",
      "998210.0\n",
      "1061164.0\n",
      "920847.0\n",
      "851227.0\n",
      "1083426.0\n",
      "1113384.0\n",
      "1095431.0\n",
      "984365.0\n",
      "1358848.0\n",
      "1530860.0\n",
      "1169415.0\n",
      "1108854.0\n",
      "1140617.0\n",
      "987072.0\n",
      "878877.0\n",
      "1094086.0\n",
      "1208814.0\n",
      "1018628.0\n",
      "1119712.0\n",
      "967326.0\n",
      "1284279.0\n",
      "1011016.0\n",
      "1020078.0\n",
      "1019942.0\n",
      "978960.0\n",
      "1070580.0\n",
      "997304.0\n",
      "1057386.0\n",
      "1423973.0\n",
      "1261998.0\n",
      "1003431.0\n",
      "1263857.0\n",
      "990689.0\n",
      "1020568.0\n",
      "1076827.0\n",
      "1062060.0\n",
      "1404848.0\n",
      "1010668.0\n",
      "1331688.0\n",
      "1107228.0\n",
      "901276.0\n",
      "1133239.0\n",
      "1145622.0\n",
      "1049812.0\n",
      "851068.0\n",
      "1136909.0\n",
      "1144127.0\n",
      "918992.0\n",
      "1117883.0\n",
      "1108612.0\n",
      "1030218.0\n",
      "1095831.0\n",
      "988094.0\n",
      "1003285.0\n"
     ]
    }
   ],
   "source": [
    "# Get the index of the scenarios and corresponding dates\n",
    "for k in range(4):\n",
    "    for filename in os.listdir(\"demand/scenario\" + str(k)):\n",
    "        if filename.startswith(\"demand\"):\n",
    "            day = filename.split(\"_\")[1].split(\".\")[0]\n",
    "            day_index = datetime.strptime(day,\"%Y-%m-%d\").timetuple().tm_yday - 1\n",
    "            data = mat[((day_index)*24-3):((day_index+1)*24+3),:,:]\n",
    "            print(np.sum(data))\n",
    "            res = dict()\n",
    "            for i in range(NUM_OF_ZONE):\n",
    "                for j in range(NUM_OF_ZONE):\n",
    "                    if(np.sum( data[:, i, j]) > 0):\n",
    "                        res[str((i, j))] = data[:, i, j].tolist()\n",
    "            with open(\"demand_full/scenario\" + str(k) + \"/\" + filename.split(\".\")[0] + \".json\", 'w') as f:\n",
    "                json.dump(res, f)"
   ]
  },
  {
   "cell_type": "code",
   "execution_count": 10,
   "id": "b3c4c245-9818-4e6a-97d4-7385ea356fce",
   "metadata": {},
   "outputs": [
    {
     "name": "stdout",
     "output_type": "stream",
     "text": [
      "1151031.0\n",
      "1231662.0\n",
      "1109966.0\n",
      "1054612.0\n",
      "1069206.0\n",
      "1137758.0\n",
      "1229058.0\n",
      "993804.0\n",
      "1234134.0\n",
      "909685.0\n",
      "1013448.0\n",
      "1058354.0\n",
      "1032967.0\n",
      "998210.0\n",
      "1061164.0\n",
      "920847.0\n",
      "851227.0\n",
      "1083426.0\n",
      "1113384.0\n",
      "1095431.0\n",
      "984365.0\n",
      "1358848.0\n",
      "1530860.0\n",
      "1169415.0\n",
      "1108854.0\n",
      "1140617.0\n",
      "987072.0\n",
      "878877.0\n",
      "1094086.0\n",
      "1208814.0\n",
      "1018628.0\n",
      "1119712.0\n",
      "967326.0\n",
      "1284279.0\n",
      "1011016.0\n",
      "1020078.0\n",
      "1019942.0\n",
      "978960.0\n",
      "1070580.0\n",
      "997304.0\n",
      "1057386.0\n",
      "1423973.0\n",
      "1261998.0\n",
      "1003431.0\n",
      "1263857.0\n",
      "990689.0\n",
      "1020568.0\n",
      "1076827.0\n",
      "1062060.0\n",
      "1404848.0\n",
      "1010668.0\n",
      "1331688.0\n",
      "1107228.0\n",
      "901276.0\n",
      "1133239.0\n",
      "1145622.0\n",
      "1049812.0\n",
      "851068.0\n",
      "1136909.0\n",
      "1144127.0\n",
      "918992.0\n",
      "1117883.0\n",
      "1108612.0\n",
      "1030218.0\n",
      "1095831.0\n",
      "988094.0\n",
      "1003285.0\n"
     ]
    }
   ],
   "source": [
    "# Get the index of the scenarios and corresponding dates\n",
    "for k in range(4):\n",
    "    for filename in os.listdir(\"demand/scenario\" + str(k)):\n",
    "        if filename.startswith(\"demand\"):\n",
    "            day = filename.split(\"_\")[1].split(\".\")[0]\n",
    "            day_index = datetime.strptime(day,\"%Y-%m-%d\").timetuple().tm_yday - 1\n",
    "            data = mat[(day_index*24-3):((day_index+1)*24+3),:,:]\n",
    "            print(np.sum(data))\n",
    "            res = dict()\n",
    "            for i in HUB_INDEXES:\n",
    "                for j in range(NUM_OF_ZONE):\n",
    "                    if(np.sum( data[:, i, j]) > 0):\n",
    "                        res[str((i, j))] = data[:, i, j].tolist()\n",
    "            for i in range(NUM_OF_ZONE):\n",
    "                for j in HUB_INDEXES:\n",
    "                    if(np.sum( data[:, i, j]) > 0):\n",
    "                        res[str((i, j))] = data[:, i, j].tolist()\n",
    "            with open(\"demand/scenario\" + str(k) + \"/\" + filename.split(\".\")[0] + \".json\", 'w') as f:\n",
    "                json.dump(res, f)"
   ]
  },
  {
   "cell_type": "code",
   "execution_count": null,
   "id": "9d3a1f2e-5449-47a5-87a0-6704c567a182",
   "metadata": {},
   "outputs": [],
   "source": []
  }
 ],
 "metadata": {
  "kernelspec": {
   "display_name": "Python 3.8.13 ('gp38')",
   "language": "python",
   "name": "python3"
  },
  "language_info": {
   "codemirror_mode": {
    "name": "ipython",
    "version": 3
   },
   "file_extension": ".py",
   "mimetype": "text/x-python",
   "name": "python",
   "nbconvert_exporter": "python",
   "pygments_lexer": "ipython3",
   "version": "3.8.13"
  },
  "vscode": {
   "interpreter": {
    "hash": "fc46e5d6f970846784f3bdb3afc385705c2d95b581539dd0c71cdbad2ecd3c29"
   }
  }
 },
 "nbformat": 4,
 "nbformat_minor": 5
}
