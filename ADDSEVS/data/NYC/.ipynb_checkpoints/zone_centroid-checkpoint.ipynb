{
 "cells": [
  {
   "cell_type": "code",
   "execution_count": 1,
   "metadata": {},
   "outputs": [],
   "source": [
    "import geopandas as gpd\n",
    "import pandas as pd\n",
    "import numpy as np"
   ]
  },
  {
   "cell_type": "code",
   "execution_count": 5,
   "metadata": {},
   "outputs": [],
   "source": [
    "zone_centroid = gpd.read_file('zone_centroid.shp')"
   ]
  },
  {
   "cell_type": "code",
   "execution_count": 10,
   "metadata": {},
   "outputs": [
    {
     "data": {
      "text/plain": [
       "borough                                             Queens\n",
       "location_i                                             132\n",
       "objectid                                               132\n",
       "shape_area                                       0.0020383\n",
       "shape_leng                                        0.245479\n",
       "zone                                           JFK Airport\n",
       "ORIG_FID                                               136\n",
       "geometry      POINT (-73.78653298335004 40.64698489239499)\n",
       "Name: 131, dtype: object"
      ]
     },
     "execution_count": 10,
     "metadata": {},
     "output_type": "execute_result"
    }
   ],
   "source": [
    "zone_centroid.iloc[131]"
   ]
  },
  {
   "cell_type": "code",
   "execution_count": 12,
   "metadata": {},
   "outputs": [
    {
     "data": {
      "text/plain": [
       "borough                                          Manhattan\n",
       "location_i                                             142\n",
       "objectid                                               142\n",
       "shape_area                                     7.56538e-05\n",
       "shape_leng                                       0.0381759\n",
       "zone                                   Lincoln Square East\n",
       "ORIG_FID                                               143\n",
       "geometry      POINT (-73.98153220639179 40.77363329302688)\n",
       "Name: 138, dtype: object"
      ]
     },
     "execution_count": 12,
     "metadata": {},
     "output_type": "execute_result"
    }
   ],
   "source": [
    "zone_centroid.iloc[138]"
   ]
  },
  {
   "cell_type": "code",
   "execution_count": null,
   "metadata": {},
   "outputs": [],
   "source": [
    "zone_centroid.iloc[138]"
   ]
  }
 ],
 "metadata": {
  "kernelspec": {
   "display_name": "Python 3",
   "language": "python",
   "name": "python3"
  },
  "language_info": {
   "codemirror_mode": {
    "name": "ipython",
    "version": 3
   },
   "file_extension": ".py",
   "mimetype": "text/x-python",
   "name": "python",
   "nbconvert_exporter": "python",
   "pygments_lexer": "ipython3",
   "version": "3.7.7"
  }
 },
 "nbformat": 4,
 "nbformat_minor": 4
}
